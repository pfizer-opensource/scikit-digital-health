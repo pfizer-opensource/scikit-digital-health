{
 "cells": [
  {
   "cell_type": "markdown",
   "id": "03dff378",
   "metadata": {},
   "source": [
    "# Scikit Digital Health Examples\n",
    "- Below are examples of how to use different modules for human activity recognition\n",
    "- Keep in mind that gait and sit2stand are intended for lumbar placed accelerometers\n",
    "- Keep in mind that activity and sleep are intended for wrist placed accelerometers\n",
    "### Import libraries and initialize modules"
   ]
  },
  {
   "cell_type": "code",
   "execution_count": 1,
   "id": "9c714734",
   "metadata": {},
   "outputs": [],
   "source": [
    "import skdh # this imports the scikit-digital-health library\n",
    "from skdh.activity import ActivityLevelClassification # this imports the activity classification module\n",
    "from skdh.preprocessing import GetDayWindowIndices # this imports the day windowing module\n",
    "from skdh.preprocessing import CountWearDetection # this imports the wear detection module\n",
    "from skdh.gait_old import Gait # this imports the older gait classification and gait feature extraction module\n",
    "from skdh.sit2stand import Sit2Stand # this imports the sit to stand prediction and feature extraction module\n",
    "from skdh.sleep import Sleep # this imports the sleep classification and feature extraction module\n",
    "\n",
    "import pandas as pd # for reading csv file/ working with dataframes\n",
    "import numpy as np # for working with arrays\n",
    "\n",
    "ACLASS = ActivityLevelClassification()\n",
    "CWD = CountWearDetection()\n",
    "GAIT = Gait()\n",
    "S2S = Sit2Stand()\n",
    "SLEEP = Sleep()"
   ]
  },
  {
   "cell_type": "markdown",
   "id": "77733ac3",
   "metadata": {},
   "source": [
    "### Define unix conversion function"
   ]
  },
  {
   "cell_type": "code",
   "execution_count": 2,
   "id": "921c9b9a",
   "metadata": {},
   "outputs": [],
   "source": [
    "def covert_to_unix(data, timestamp_col):\n",
    "    \"\"\"\n",
    "    If needed, this coverts timestamps to unix time in seconds, which is necessary for the skdh library \n",
    "    \"\"\"\n",
    "    unix_s = pd.to_datetime(df[timestamp_col])\n",
    "    unix_s = unix_s.apply(lambda x: x.timestamp())\n",
    "    return unix_s"
   ]
  },
  {
   "cell_type": "markdown",
   "id": "30a65303",
   "metadata": {},
   "source": [
    "### Read file and define variables"
   ]
  },
  {
   "cell_type": "code",
   "execution_count": null,
   "id": "645970bb",
   "metadata": {},
   "outputs": [],
   "source": [
    "df = read_csv(\"YOUR_FILE.csv\")\n",
    "\n",
    "accel_cols = [] # put your accelerometer columns here, there should be three columns (x, y, and z)\n",
    "time_col = [] # place your datetime column here\n",
    "\n",
    "print(\"Accelerometer Columns\")\n",
    "print(accel_cols)\n",
    "print(\"Datetime Column\")\n",
    "print(time_col)"
   ]
  },
  {
   "cell_type": "markdown",
   "id": "4561d4e0",
   "metadata": {},
   "source": [
    "### Convert timestamps and define data"
   ]
  },
  {
   "cell_type": "code",
   "execution_count": null,
   "id": "a988843a",
   "metadata": {},
   "outputs": [],
   "source": [
    "unix_s = covert_to_unix(data = df, timestamp_col = time_col[0]) \n",
    "unix_s = unix_s.values\n",
    "\n",
    "accels = df[accel_cols].values\n",
    "\n",
    "print('Time')\n",
    "print(unix_s)\n",
    "print('Acceleration')\n",
    "print(accels)"
   ]
  },
  {
   "cell_type": "markdown",
   "id": "50673b3a",
   "metadata": {},
   "source": [
    "## Perform Wear Detection"
   ]
  },
  {
   "cell_type": "code",
   "execution_count": null,
   "id": "9465759d",
   "metadata": {},
   "outputs": [],
   "source": [
    "wear = CWD.predict(\n",
    "    time = unix_s, \n",
    "    accel = accels, \n",
    ")\n",
    "print(wear['wear'])"
   ]
  },
  {
   "cell_type": "markdown",
   "id": "d880cf03",
   "metadata": {},
   "source": [
    "## Perform Activity Classification and Feature Extraction"
   ]
  },
  {
   "cell_type": "code",
   "execution_count": null,
   "id": "ae0886e3",
   "metadata": {},
   "outputs": [],
   "source": [
    "act = ACLASS.predict(\n",
    "    time = unix_s, \n",
    "    accel = accels,\n",
    "    #wear=wear['wear'] #optional argument, can use the output from the wear prediction\n",
    ")\n",
    "print(act)"
   ]
  },
  {
   "cell_type": "markdown",
   "id": "d3f65afe",
   "metadata": {},
   "source": [
    "## Perform Gait Classification and Feature Extraction"
   ]
  },
  {
   "cell_type": "code",
   "execution_count": null,
   "id": "fdfe624c",
   "metadata": {},
   "outputs": [],
   "source": [
    "gait = GAIT.predict(\n",
    "    time = unix_s, \n",
    "    accel = accels,\n",
    "    #wear=wear['wear'] #optional argument, can use the output from the wear prediction\n",
    ")\n",
    "print(gait)"
   ]
  },
  {
   "cell_type": "markdown",
   "id": "a422feb5",
   "metadata": {},
   "source": [
    "## Perform Sit 2 Stand Classification and Feature Extraction"
   ]
  },
  {
   "cell_type": "code",
   "execution_count": null,
   "id": "f54bfe34",
   "metadata": {},
   "outputs": [],
   "source": [
    "sit2stand = S2S.predict(\n",
    "    time = unix_s, \n",
    "    accel = accels,\n",
    "    #wear=wear['wear'] #optional argument, can use the output from the wear prediction\n",
    ")\n",
    "print(sit2stand)"
   ]
  },
  {
   "cell_type": "markdown",
   "id": "ed3d5ae2",
   "metadata": {},
   "source": [
    "## Perform Sleep Classification and Feature Extraction"
   ]
  },
  {
   "cell_type": "code",
   "execution_count": null,
   "id": "b0037e05",
   "metadata": {},
   "outputs": [],
   "source": [
    "sleep = SLEEP.predict(\n",
    "    time = unix_s, \n",
    "    accel = accels,\n",
    "    #wear=wear['wear'] #optional argument, can use the output from the wear prediction\n",
    ")\n",
    "print(sleep)"
   ]
  },
  {
   "cell_type": "markdown",
   "id": "657dba4f",
   "metadata": {},
   "source": [
    "### Convert output to dataframes"
   ]
  },
  {
   "cell_type": "code",
   "execution_count": null,
   "id": "41c4941a",
   "metadata": {},
   "outputs": [],
   "source": [
    "act_df = pd.DataFrame(act)\n",
    "#act_df.to_csv('save_file_name.csv')\n",
    "act_df"
   ]
  },
  {
   "cell_type": "code",
   "execution_count": null,
   "id": "c3c3ef5f",
   "metadata": {},
   "outputs": [],
   "source": [
    "gait_df = pd.DataFrame(gait)\n",
    "#gait_df.to_csv('save_file_name.csv')\n",
    "gait_df"
   ]
  },
  {
   "cell_type": "code",
   "execution_count": null,
   "id": "862f368d",
   "metadata": {},
   "outputs": [],
   "source": [
    "s2s_df = pd.DataFrame(sit2stand)\n",
    "#s2s_df.to_csv('save_file_name.csv')\n",
    "s2s_df"
   ]
  },
  {
   "cell_type": "code",
   "execution_count": null,
   "id": "a2260d4a",
   "metadata": {},
   "outputs": [],
   "source": [
    "sleep_df = pd.DataFrame(sleep)\n",
    "#sleep_df.to_csv('save_file_name.csv')\n",
    "sleep_df"
   ]
  }
 ],
 "metadata": {
  "kernelspec": {
   "display_name": "Python 3 (ipykernel)",
   "language": "python",
   "name": "python3"
  },
  "language_info": {
   "codemirror_mode": {
    "name": "ipython",
    "version": 3
   },
   "file_extension": ".py",
   "mimetype": "text/x-python",
   "name": "python",
   "nbconvert_exporter": "python",
   "pygments_lexer": "ipython3",
   "version": "3.10.9"
  }
 },
 "nbformat": 4,
 "nbformat_minor": 5
}
